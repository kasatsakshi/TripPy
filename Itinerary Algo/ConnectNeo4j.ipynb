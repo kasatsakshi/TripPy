{
 "cells": [
  {
   "cell_type": "code",
   "execution_count": 1,
   "id": "9d2abede-d126-4a64-9096-372ffe8bcfa4",
   "metadata": {},
   "outputs": [
    {
     "name": "stdout",
     "output_type": "stream",
     "text": [
      "Collecting neo4j\n",
      "  Downloading neo4j-5.7.0.tar.gz (176 kB)\n",
      "\u001b[K     |████████████████████████████████| 176 kB 2.8 MB/s eta 0:00:01\n",
      "\u001b[?25h  Installing build dependencies ... \u001b[?25ldone\n",
      "\u001b[?25h  Getting requirements to build wheel ... \u001b[?25ldone\n",
      "\u001b[?25h  Installing backend dependencies ... \u001b[?25ldone\n",
      "\u001b[?25h    Preparing wheel metadata ... \u001b[?25ldone\n",
      "\u001b[?25hRequirement already satisfied: pytz in /opt/anaconda3/lib/python3.9/site-packages (from neo4j) (2021.3)\n",
      "Building wheels for collected packages: neo4j\n",
      "  Building wheel for neo4j (PEP 517) ... \u001b[?25ldone\n",
      "\u001b[?25h  Created wheel for neo4j: filename=neo4j-5.7.0-py3-none-any.whl size=243940 sha256=32171ee3d01080136927dc798e6a075086a53e9e92c8e8f19bfe464d2a631634\n",
      "  Stored in directory: /Users/chetan/Library/Caches/pip/wheels/6d/be/1e/749b84bba4b7429145ea09ccb46114fab4748625eb319f286a\n",
      "Successfully built neo4j\n",
      "Installing collected packages: neo4j\n",
      "Successfully installed neo4j-5.7.0\n",
      "Note: you may need to restart the kernel to use updated packages.\n"
     ]
    }
   ],
   "source": [
    "pip install neo4j"
   ]
  },
  {
   "cell_type": "code",
   "execution_count": null,
   "id": "16098cdd-bf28-4c91-be85-c091f23cff71",
   "metadata": {},
   "outputs": [],
   "source": [
    "from neo4j import GraphDatabase\n",
    "import logging\n",
    "from neo4j.exceptions import ServiceUnavailable\n",
    "\n",
    "class App:\n",
    "\n",
    "    def __init__(self, uri, user, password):\n",
    "        self.driver = GraphDatabase.driver(uri, auth=(user, password))\n",
    "\n",
    "    def close(self):\n",
    "        # Don't forget to close the driver connection when you are finished with it\n",
    "        self.driver.close()\n",
    "\n",
    "    def create_route(self, person1_name, person2_name):\n",
    "        with self.driver.session(database=\"neo4j\") as session:\n",
    "            # Write transactions allow the driver to handle retries and transient errors\n",
    "            result = session.execute_write(\n",
    "                self._create_and_return_friendship, person1_name, person2_name)\n",
    "            for row in result:\n",
    "                print(\"Created Travel To relationship between: {p1}, {p2}\".format(p1=row['p1'], p2=row['p2']))\n",
    "\n",
    "    @staticmethod\n",
    "    def _create_and_return_friendship(tx, person1_name, person2_name):\n",
    "        # To learn more about the Cypher syntax, see https://neo4j.com/docs/cypher-manual/current/\n",
    "        # The Reference Card is also a good resource for keywords https://neo4j.com/docs/cypher-refcard/current/\n",
    "        query = (\n",
    "            \"CREATE (:Place {name: 'Robert F. Wagner Jr. Park', latitude: 40.7198, longitude: -74.0001, type: 'museum'})\"\n",
    "            \"CREATE (:Place {name: 'The Skyscraper Museum', latitude: 40.7156, longitude: -74.0090, type: 'museum'}) \"\n",
    "            \"CREATE (p1)-[:TRAVEL_TO]->(p2) \"\n",
    "            \"RETURN p1, p2\"\n",
    "        )\n",
    "        result = tx.run(query, person1_name=person1_name, person2_name=person2_name)\n",
    "        try:\n",
    "            return [{\"p1\": row[\"p1\"][\"name\"], \"p2\": row[\"p2\"][\"name\"]}\n",
    "                    for row in result]\n",
    "        # Capture any errors along with the query and data for traceability\n",
    "        except ServiceUnavailable as exception:\n",
    "            logging.error(\"{query} raised an error: \\n {exception}\".format(\n",
    "                query=query, exception=exception))\n",
    "            raise\n",
    "\n",
    "    def find_person(self, person_name):\n",
    "        with self.driver.session(database=\"neo4j\") as session:\n",
    "            result = session.execute_read(self._find_and_return_person, person_name)\n",
    "            for row in result:\n",
    "                print(\"Found : {row}\".format(row=row))\n",
    "\n",
    "    @staticmethod\n",
    "    def _find_and_return_person(tx, person_name):\n",
    "        query = (\n",
    "            \"MATCH (p:Place) \"\n",
    "            \"WHERE p.name = $name \"\n",
    "            \"RETURN p.name AS name\"\n",
    "        )\n",
    "        result = tx.run(query, person_name=person_name)\n",
    "        return [row[\"name\"] for row in result]\n",
    "\n",
    "\n",
    "if __name__ == \"__main__\":\n",
    "    # Aura queries use an encrypted connection using the \"neo4j+s\" URI scheme\n",
    "    uri = \"neo4j+s://<Bolt url for Neo4j Aura instance>\"\n",
    "    user = \"cnain\"\n",
    "    password = \"\"\n",
    "    app = App(uri, user, password)\n",
    "    app.create_friendship(\"\", \"David\")\n",
    "    app.find_person(\"Alice\")\n",
    "    app.close()"
   ]
  }
 ],
 "metadata": {
  "kernelspec": {
   "display_name": "Python 3 (ipykernel)",
   "language": "python",
   "name": "python3"
  },
  "language_info": {
   "codemirror_mode": {
    "name": "ipython",
    "version": 3
   },
   "file_extension": ".py",
   "mimetype": "text/x-python",
   "name": "python",
   "nbconvert_exporter": "python",
   "pygments_lexer": "ipython3",
   "version": "3.9.7"
  }
 },
 "nbformat": 4,
 "nbformat_minor": 5
}
