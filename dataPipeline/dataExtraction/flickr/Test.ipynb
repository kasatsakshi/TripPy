{
 "cells": [
  {
   "cell_type": "code",
   "execution_count": 1,
   "id": "32ba54a2",
   "metadata": {},
   "outputs": [],
   "source": [
    "import auth\n",
    "import requests\n",
    "import base64\n",
    "import json\n",
    "import pandas as pd\n",
    "flickr = auth.connect()"
   ]
  },
  {
   "cell_type": "code",
   "execution_count": 2,
   "id": "d538fd49",
   "metadata": {},
   "outputs": [],
   "source": [
    "df = pd.read_csv('../us_cities.csv')\n",
    "\n",
    "\n",
    "top_cities = [\"New York\", \"Los Angeles\", \"Las Vegas\", \"Orlando\", \"Miami\", \"San Francisco\"]\n",
    "\n",
    "df_top = df[df['CITY'].isin(top_cities)]\n",
    "df_top = df_top.reset_index()  "
   ]
  },
  {
   "cell_type": "code",
   "execution_count": 3,
   "id": "cd70c445",
   "metadata": {},
   "outputs": [],
   "source": [
    "cities= {\n",
    "   \"New York\":{\n",
    "      \"latitude\":40.730610,\n",
    "      \"longitude\":-73.935242\n",
    "   },\n",
    "   \"Los Angeles\":{\n",
    "      \"latitude\":34.052235,\n",
    "      \"longitude\":-118.243683\n",
    "   },\n",
    "   \"Las Vegas\":{\n",
    "      \"latitude\":36.188110,\n",
    "      \"longitude\":-115.176468\n",
    "   },\n",
    "   \"Orlando\":{\n",
    "      \"latitude\":28.538336,\n",
    "      \"longitude\":-81.379234\n",
    "   },\n",
    "   \"Miami\":{\n",
    "      \"latitude\":25.761681,\n",
    "      \"longitude\":-80.191788\n",
    "   },\n",
    "   \"San Francisco\":{\n",
    "      \"latitude\":37.773972,\n",
    "      \"longitude\":-122.431297\n",
    "   }\n",
    "}\n"
   ]
  },
  {
   "cell_type": "code",
   "execution_count": 4,
   "id": "3d0b0293",
   "metadata": {},
   "outputs": [],
   "source": [
    "# cities= {\n",
    "#    \"New York\":{\n",
    "#       \"latitude\":40.730610,\n",
    "#       \"longitude\":-73.935242\n",
    "#    }\n",
    "# }"
   ]
  },
  {
   "cell_type": "markdown",
   "id": "919fbca6",
   "metadata": {},
   "source": [
    "Fields needed for each photo:\n",
    "id: unique ID of the uploaded photo (pid).\n",
    "owner-id: unique user ID of the person who uploaded the photo (up).\n",
    "longitude: (geotag information) x coordinate (xp).\n",
    "latitude: (geotag information) y coordinate (yp).\n",
    "dates-taken: date and time when the photo was taken (tp).\n",
    "dates-posted: date and time when the photo was uploaded."
   ]
  },
  {
   "cell_type": "code",
   "execution_count": 5,
   "id": "3f0a383f",
   "metadata": {},
   "outputs": [],
   "source": [
    "def getlonglat(row):\n",
    "    res = flickr.photos.geo.getLocation(photo_id=str(row['id']))\n",
    "    \n",
    "    location = res['photo']['location']\n",
    "    row['latitude'] = location['latitude']\n",
    "    row['longitude'] = location['longitude']\n",
    "    return row\n"
   ]
  },
  {
   "cell_type": "code",
   "execution_count": null,
   "id": "b3fa0a07",
   "metadata": {},
   "outputs": [],
   "source": [
    "for k,v in cities.items():\n",
    "    data=[]\n",
    "    pages = 8\n",
    "    city = k\n",
    "    long = v['longitude']\n",
    "    lat = v['latitude']\n",
    "    filename= city+'-photos.csv'\n",
    "\n",
    "    for p in range(1, pages+1):\n",
    "        \n",
    "    #     photos = flickr.photos.search(lat=lat, lon=long, accuracy=11,min_date_taken='2010-01-01', max_date_taken='2023-12-31', radius = 20, radius_units='mi', extras=[\"date_upload\", \"date_taken\", \"owner_name\", \"geo\"])\n",
    "        photos = flickr.photos.search(lat=lat, lon=long, accuracy=11, radius = 20, radius_units='mi',min_date_taken='2010-01-01', max_date_taken='2023-12-31', extras=[\"date\", \"date_upload\", \"date_taken\", \"owner_name\"], page=p)\n",
    "\n",
    "        df_photos = pd.DataFrame(photos['photos']['photo'])\n",
    "        df_photos = df_photos.drop(['secret', 'farm', 'server', 'ispublic', 'isfriend', 'isfamily'], axis=1)\n",
    "        df_photos = df_photos.apply(getlonglat, axis=1)\n",
    "        df_photos = df_photos.drop(df_photos.columns[0], axis=1)\n",
    "        df_photos = df_photos.drop_duplicates()\n",
    "        data.append(df_photos)\n",
    "    data = pd.concat(data)\n",
    "    data.to_csv(filename)\n",
    "\n",
    "\n",
    " "
   ]
  },
  {
   "cell_type": "code",
   "execution_count": null,
   "id": "48dfafb0",
   "metadata": {},
   "outputs": [],
   "source": [
    "df1= pd.read_csv('New York-photos.csv')"
   ]
  },
  {
   "cell_type": "code",
   "execution_count": null,
   "id": "c56d1a49",
   "metadata": {},
   "outputs": [],
   "source": [
    "df1"
   ]
  },
  {
   "cell_type": "code",
   "execution_count": null,
   "id": "ba705871",
   "metadata": {},
   "outputs": [],
   "source": [
    "photos_by_user = df1.groupby(\"owner\")['id'].count().sort_values(ascending= False)"
   ]
  },
  {
   "cell_type": "code",
   "execution_count": null,
   "id": "6c9be82e",
   "metadata": {},
   "outputs": [],
   "source": [
    "photos_by_user"
   ]
  }
 ],
 "metadata": {
  "kernelspec": {
   "display_name": "Python 3 (ipykernel)",
   "language": "python",
   "name": "python3"
  },
  "language_info": {
   "codemirror_mode": {
    "name": "ipython",
    "version": 3
   },
   "file_extension": ".py",
   "mimetype": "text/x-python",
   "name": "python",
   "nbconvert_exporter": "python",
   "pygments_lexer": "ipython3",
   "version": "3.8.11"
  }
 },
 "nbformat": 4,
 "nbformat_minor": 5
}
