{
 "cells": [
  {
   "cell_type": "code",
   "execution_count": 11,
   "id": "6ac7635e",
   "metadata": {},
   "outputs": [],
   "source": [
    "import auth\n",
    "import requests\n",
    "import base64\n",
    "import json\n",
    "import pandas as pd\n",
    "flickr = auth.connect()\n",
    "from sklearn.cluster import KMeans\n",
    "import numpy as np\n",
    "import matplotlib.pyplot as plt\n",
    "\n",
    "\n",
    "# Query Flickr API for photos tagged with \"San Francisco\"\n",
    "photos = flickr.photos.search(text='San Francisco', extras='geo', per_page=1000)['photos']['photo']\n",
    "\n",
    "# Extract latitude and longitude information from photo metadata\n",
    "latitudes = [float(photo['latitude']) for photo in photos if photo.get('latitude') != None]\n",
    "longitudes = [float(photo['longitude']) for photo in photos if photo.get('longitude') != None]\n",
    "\n",
    "# Cluster photos using k-means algorithm\n",
    "X = np.array(list(zip(latitudes, longitudes)))"
   ]
  },
  {
   "cell_type": "code",
   "execution_count": 13,
   "id": "d18ef8aa",
   "metadata": {},
   "outputs": [
    {
     "data": {
      "image/png": "[encoded data removed]",
      "text/plain": [
       "<Figure size 432x288 with 1 Axes>"
      ]
     },
     "metadata": {
      "needs_background": "light"
     },
     "output_type": "display_data"
    }
   ],
   "source": [
    "kmeans = KMeans(n_clusters=10).fit(X)\n",
    "centroids = kmeans.cluster_centers_\n",
    "\n",
    "# Plot clusters and PoIs on a map\n",
    "plt.scatter(X[:,0], X[:,1], c=kmeans.labels_, cmap='rainbow')\n",
    "plt.scatter(centroids[:,0], centroids[:,1], marker='x', s=200, linewidths=3, color='black')\n",
    "plt.show()"
   ]
  },
  {
   "cell_type": "code",
   "execution_count": null,
   "id": "142b2db3",
   "metadata": {},
   "outputs": [],
   "source": []
  }
 ],
 "metadata": {
  "kernelspec": {
   "display_name": "Python 3 (ipykernel)",
   "language": "python",
   "name": "python3"
  },
  "language_info": {
   "codemirror_mode": {
    "name": "ipython",
    "version": 3
   },
   "file_extension": ".py",
   "mimetype": "text/x-python",
   "name": "python",
   "nbconvert_exporter": "python",
   "pygments_lexer": "ipython3",
   "version": "3.8.11"
  }
 },
 "nbformat": 4,
 "nbformat_minor": 5
}
