{
 "cells": [
  {
   "cell_type": "code",
   "execution_count": 5,
   "id": "e9f0c738",
   "metadata": {},
   "outputs": [
    {
     "name": "stdout",
     "output_type": "stream",
     "text": [
      "Suggested itinerary:\n"
     ]
    }
   ],
   "source": [
    "import datetime\n",
    "import auth\n",
    "\n",
    "flickr = auth.connect()\n",
    "# set up user ID and date range\n",
    "user_id = \"your_user_id\"\n",
    "start_date = datetime.datetime(2015, 1, 1)\n",
    "end_date = datetime.datetime(2022, 12, 31)\n",
    "\n",
    "# get user's photos from Flickr\n",
    "photos = flickr.photos.search(lat='37.773972', lon='-73.935242', min_taken_date=start_date.timestamp(), max_taken_date=end_date.timestamp(), extras='geo')\n",
    "\n",
    "# create a dictionary to store the locations and number of photos taken at each location\n",
    "location_counts = {}\n",
    "for photo in photos['photos']['photo']:\n",
    "    # get location information\n",
    "    lat = photo.get('latitude')\n",
    "    lon = photo.get('longitude')\n",
    "    if lat and lon:\n",
    "        location = str(lat) + ',' + str(lon)\n",
    "        # add location to dictionary\n",
    "        if location in location_counts:\n",
    "            location_counts[location] += 1\n",
    "        else:\n",
    "            location_counts[location] = 1\n",
    "\n",
    "# sort the locations by the number of photos taken at each location\n",
    "sorted_locations = sorted(location_counts.items(), key=lambda x: x[1], reverse=True)\n",
    "\n",
    "# create a list of suggested destinations based on the user's travel pattern\n",
    "suggested_destinations = []\n",
    "for location, count in sorted_locations:\n",
    "    tags = []\n",
    "    for photo in photos['photos']['photo']:\n",
    "        lat = photo.get('latitude')\n",
    "        lon = photo.get('longitude')\n",
    "        if lat and lon:\n",
    "            if location == str(lat) + ',' + str(lon):\n",
    "                tags.extend(photo.get('tags', '').split())\n",
    "    # add destination to list if it has at least 3 photos and contains relevant tags\n",
    "    if count >= 3 and ('landscape' in tags or 'architecture' in tags or 'cityscape' in tags):\n",
    "        suggested_destinations.append(location)\n",
    "\n",
    "# print the suggested itinerary\n",
    "print(\"Suggested itinerary:\")\n",
    "for i, destination in enumerate(suggested_destinations):\n",
    "    print(str(i+1) + \". \" + destination)\n"
   ]
  },
  {
   "cell_type": "code",
   "execution_count": null,
   "id": "ff677086",
   "metadata": {},
   "outputs": [],
   "source": []
  }
 ],
 "metadata": {
  "kernelspec": {
   "display_name": "Python 3 (ipykernel)",
   "language": "python",
   "name": "python3"
  },
  "language_info": {
   "codemirror_mode": {
    "name": "ipython",
    "version": 3
   },
   "file_extension": ".py",
   "mimetype": "text/x-python",
   "name": "python",
   "nbconvert_exporter": "python",
   "pygments_lexer": "ipython3",
   "version": "3.8.11"
  }
 },
 "nbformat": 4,
 "nbformat_minor": 5
}
