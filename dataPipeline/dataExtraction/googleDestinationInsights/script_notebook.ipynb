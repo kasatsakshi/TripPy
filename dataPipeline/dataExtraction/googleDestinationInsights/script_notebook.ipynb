{
 "cells": [
  {
   "cell_type": "code",
   "execution_count": 1,
   "id": "76761923",
   "metadata": {},
   "outputs": [],
   "source": [
    "import requests\n",
    "from bs4 import BeautifulSoup\n",
    "from selenium import webdriver\n",
    "from webdriver_manager.chrome import ChromeDriverManager\n",
    "from selenium.webdriver.common.keys import Keys\n",
    "from selenium.webdriver.common.action_chains import ActionChains\n",
    "import time"
   ]
  },
  {
   "cell_type": "code",
   "execution_count": 2,
   "id": "b64bbcdf",
   "metadata": {},
   "outputs": [
    {
     "name": "stderr",
     "output_type": "stream",
     "text": [
      "/var/folders/fw/qkf7nk857ddd0g6vxnfg8_r40000gn/T/ipykernel_48091/3340618986.py:4: DeprecationWarning: executable_path has been deprecated, please pass in a Service object\n",
      "  driver = webdriver.Chrome(chrome_driver_binary, chrome_options=options)\n",
      "/var/folders/fw/qkf7nk857ddd0g6vxnfg8_r40000gn/T/ipykernel_48091/3340618986.py:4: DeprecationWarning: use options instead of chrome_options\n",
      "  driver = webdriver.Chrome(chrome_driver_binary, chrome_options=options)\n"
     ]
    }
   ],
   "source": [
    "options = webdriver.ChromeOptions()\n",
    "options.binary_location = \"/Applications/Google Chrome.app/Contents/MacOS/Google Chrome\"\n",
    "chrome_driver_binary = \"/usr/local/bin/chromedriver\"\n",
    "driver = webdriver.Chrome(chrome_driver_binary, chrome_options=options)"
   ]
  },
  {
   "cell_type": "code",
   "execution_count": 9,
   "id": "92641d93",
   "metadata": {},
   "outputs": [],
   "source": [
    "driver.get('https://destinationinsights.withgoogle.com/') "
   ]
  },
  {
   "cell_type": "code",
   "execution_count": 23,
   "id": "8b4098c9",
   "metadata": {
    "scrolled": true
   },
   "outputs": [],
   "source": [
    "counter = 1 \n",
    "listtotal = [] \n",
    "time.sleep(50) \n",
    "table2 = driver.find_element('xpath',\"/html/body/div[1]/div[13]/div[2]/div[4]\") \n",
    "table2clean = table2.get_attribute(\"outerHTML\") \n",
    "table2soup = BeautifulSoup(table2clean, \"lxml\") \n",
    "growthregions = table2soup.find_all(\"span\", {\"class\": \"geographic-demand__name ng-binding\"}) \n",
    "growthregionsnumber = table2soup.find_all(\"span\", {\"class\": \"geographic-demand__total glue-small-text ng-binding\"}) "
   ]
  },
  {
   "cell_type": "code",
   "execution_count": 24,
   "id": "00584515",
   "metadata": {
    "scrolled": true
   },
   "outputs": [
    {
     "data": {
      "text/plain": [
       "[<span class=\"geographic-demand__total glue-small-text ng-binding\">\n",
       "                         100\n",
       "                       </span>,\n",
       " <span class=\"geographic-demand__total glue-small-text ng-binding\">\n",
       "                         47\n",
       "                       </span>,\n",
       " <span class=\"geographic-demand__total glue-small-text ng-binding\">\n",
       "                         13\n",
       "                       </span>,\n",
       " <span class=\"geographic-demand__total glue-small-text ng-binding\">\n",
       "                         13\n",
       "                       </span>,\n",
       " <span class=\"geographic-demand__total glue-small-text ng-binding\">\n",
       "                         10\n",
       "                       </span>,\n",
       " <span class=\"geographic-demand__total glue-small-text ng-binding\">\n",
       "                         9\n",
       "                       </span>,\n",
       " <span class=\"geographic-demand__total glue-small-text ng-binding\">\n",
       "                         8\n",
       "                       </span>,\n",
       " <span class=\"geographic-demand__total glue-small-text ng-binding\">\n",
       "                         8\n",
       "                       </span>,\n",
       " <span class=\"geographic-demand__total glue-small-text ng-binding\">\n",
       "                         8\n",
       "                       </span>,\n",
       " <span class=\"geographic-demand__total glue-small-text ng-binding\">\n",
       "                         8\n",
       "                       </span>,\n",
       " <span class=\"geographic-demand__total glue-small-text ng-binding\">\n",
       "                         7\n",
       "                       </span>,\n",
       " <span class=\"geographic-demand__total glue-small-text ng-binding\">\n",
       "                         7\n",
       "                       </span>,\n",
       " <span class=\"geographic-demand__total glue-small-text ng-binding\">\n",
       "                         6\n",
       "                       </span>,\n",
       " <span class=\"geographic-demand__total glue-small-text ng-binding\">\n",
       "                         6\n",
       "                       </span>,\n",
       " <span class=\"geographic-demand__total glue-small-text ng-binding\">\n",
       "                         6\n",
       "                       </span>,\n",
       " <span class=\"geographic-demand__total glue-small-text ng-binding\">\n",
       "                         5\n",
       "                       </span>,\n",
       " <span class=\"geographic-demand__total glue-small-text ng-binding\">\n",
       "                         5\n",
       "                       </span>,\n",
       " <span class=\"geographic-demand__total glue-small-text ng-binding\">\n",
       "                         5\n",
       "                       </span>,\n",
       " <span class=\"geographic-demand__total glue-small-text ng-binding\">\n",
       "                         5\n",
       "                       </span>,\n",
       " <span class=\"geographic-demand__total glue-small-text ng-binding\">\n",
       "                         5\n",
       "                       </span>,\n",
       " <span class=\"geographic-demand__total glue-small-text ng-binding\">\n",
       "                         5\n",
       "                       </span>,\n",
       " <span class=\"geographic-demand__total glue-small-text ng-binding\">\n",
       "                         4\n",
       "                       </span>,\n",
       " <span class=\"geographic-demand__total glue-small-text ng-binding\">\n",
       "                         4\n",
       "                       </span>,\n",
       " <span class=\"geographic-demand__total glue-small-text ng-binding\">\n",
       "                         4\n",
       "                       </span>,\n",
       " <span class=\"geographic-demand__total glue-small-text ng-binding\">\n",
       "                         4\n",
       "                       </span>,\n",
       " <span class=\"geographic-demand__total glue-small-text ng-binding\">\n",
       "                         4\n",
       "                       </span>,\n",
       " <span class=\"geographic-demand__total glue-small-text ng-binding\">\n",
       "                         4\n",
       "                       </span>,\n",
       " <span class=\"geographic-demand__total glue-small-text ng-binding\">\n",
       "                         3\n",
       "                       </span>,\n",
       " <span class=\"geographic-demand__total glue-small-text ng-binding\">\n",
       "                         3\n",
       "                       </span>,\n",
       " <span class=\"geographic-demand__total glue-small-text ng-binding\">\n",
       "                         3\n",
       "                       </span>,\n",
       " <span class=\"geographic-demand__total glue-small-text ng-binding\">\n",
       "                         3\n",
       "                       </span>,\n",
       " <span class=\"geographic-demand__total glue-small-text ng-binding\">\n",
       "                         3\n",
       "                       </span>,\n",
       " <span class=\"geographic-demand__total glue-small-text ng-binding\">\n",
       "                         3\n",
       "                       </span>,\n",
       " <span class=\"geographic-demand__total glue-small-text ng-binding\">\n",
       "                         3\n",
       "                       </span>,\n",
       " <span class=\"geographic-demand__total glue-small-text ng-binding\">\n",
       "                         3\n",
       "                       </span>,\n",
       " <span class=\"geographic-demand__total glue-small-text ng-binding\">\n",
       "                         3\n",
       "                       </span>,\n",
       " <span class=\"geographic-demand__total glue-small-text ng-binding\">\n",
       "                         3\n",
       "                       </span>,\n",
       " <span class=\"geographic-demand__total glue-small-text ng-binding\">\n",
       "                         2\n",
       "                       </span>,\n",
       " <span class=\"geographic-demand__total glue-small-text ng-binding\">\n",
       "                         2\n",
       "                       </span>,\n",
       " <span class=\"geographic-demand__total glue-small-text ng-binding\">\n",
       "                         2\n",
       "                       </span>,\n",
       " <span class=\"geographic-demand__total glue-small-text ng-binding\">\n",
       "                         2\n",
       "                       </span>,\n",
       " <span class=\"geographic-demand__total glue-small-text ng-binding\">\n",
       "                         2\n",
       "                       </span>,\n",
       " <span class=\"geographic-demand__total glue-small-text ng-binding\">\n",
       "                         2\n",
       "                       </span>,\n",
       " <span class=\"geographic-demand__total glue-small-text ng-binding\">\n",
       "                         2\n",
       "                       </span>,\n",
       " <span class=\"geographic-demand__total glue-small-text ng-binding\">\n",
       "                         2\n",
       "                       </span>,\n",
       " <span class=\"geographic-demand__total glue-small-text ng-binding\">\n",
       "                         2\n",
       "                       </span>,\n",
       " <span class=\"geographic-demand__total glue-small-text ng-binding\">\n",
       "                         2\n",
       "                       </span>,\n",
       " <span class=\"geographic-demand__total glue-small-text ng-binding\">\n",
       "                         2\n",
       "                       </span>,\n",
       " <span class=\"geographic-demand__total glue-small-text ng-binding\">\n",
       "                         1\n",
       "                       </span>,\n",
       " <span class=\"geographic-demand__total glue-small-text ng-binding\">\n",
       "                         1\n",
       "                       </span>]"
      ]
     },
     "execution_count": 24,
     "metadata": {},
     "output_type": "execute_result"
    }
   ],
   "source": [
    "table2soup\n",
    "growthregionsnumber"
   ]
  },
  {
   "cell_type": "code",
   "execution_count": 27,
   "id": "45ea038e",
   "metadata": {},
   "outputs": [],
   "source": [
    "growth = [] \n",
    "for x in range(len(growthregions)): \n",
    "    growth.append([growthregions[x].text,growthregionsnumber[x].text]) \n",
    "\n",
    "dictionarytotal = {'USA' : [growth]} \n",
    "listtotal.append(dictionarytotal) "
   ]
  },
  {
   "cell_type": "code",
   "execution_count": 28,
   "id": "e38f5913",
   "metadata": {},
   "outputs": [
    {
     "name": "stdout",
     "output_type": "stream",
     "text": [
      "[[['Las Vegas', '\\n                        100\\n                      '], ['New York', '\\n                        47\\n                      '], ['Los Angeles', '\\n                        13\\n                      '], ['Orlando', '\\n                        13\\n                      '], ['Chicago', '\\n                        10\\n                      '], ['Miami Beach', '\\n                        9\\n                      '], ['San Diego', '\\n                        8\\n                      '], ['Nashville', '\\n                        8\\n                      '], ['Miami', '\\n                        8\\n                      '], ['Honolulu', '\\n                        8\\n                      '], ['New Orleans', '\\n                        7\\n                      '], ['San Francisco', '\\n                        7\\n                      '], ['Washington', '\\n                        6\\n                      '], ['Anaheim', '\\n                        6\\n                      '], ['Houston', '\\n                        6\\n                      '], ['Boston', '\\n                        5\\n                      '], ['Atlanta', '\\n                        5\\n                      '], ['Fort Lauderdale', '\\n                        5\\n                      '], ['Atlantic City', '\\n                        5\\n                      '], ['Bay Lake', '\\n                        5\\n                      '], ['San Antonio', '\\n                        5\\n                      '], ['Myrtle Beach', '\\n                        4\\n                      '], ['Dallas', '\\n                        4\\n                      '], ['Austin', '\\n                        4\\n                      '], ['Four Corners', '\\n                        4\\n                      '], ['Phoenix', '\\n                        4\\n                      '], ['Seattle', '\\n                        4\\n                      '], ['Denver', '\\n                        3\\n                      '], ['Williamsburg', '\\n                        3\\n                      '], ['Tampa', '\\n                        3\\n                      '], ['Gatlinburg', '\\n                        3\\n                      '], ['Philadelphia', '\\n                        3\\n                      '], ['Pigeon Forge', '\\n                        3\\n                      '], ['Portland', '\\n                        3\\n                      '], ['Baraboo', '\\n                        3\\n                      '], ['Scottsdale', '\\n                        3\\n                      '], ['Palm Springs', '\\n                        3\\n                      '], ['Charleston', '\\n                        2\\n                      '], ['Kissimmee', '\\n                        2\\n                      '], ['Charlotte', '\\n                        2\\n                      '], ['Savannah', '\\n                        2\\n                      '], ['Clearwater', '\\n                        2\\n                      '], ['Key West', '\\n                        2\\n                      '], ['Asheville', '\\n                        2\\n                      '], ['Kansas City', '\\n                        2\\n                      '], ['Indianapolis', '\\n                        2\\n                      '], ['Reno', '\\n                        2\\n                      '], ['Virginia Beach', '\\n                        2\\n                      '], ['Columbus', '\\n                        1\\n                      '], ['Memphis', '\\n                        1\\n                      ']]]\n"
     ]
    }
   ],
   "source": [
    "import openpyxl\n",
    "filepath = \"Test.xlsx\" \n",
    "wb = openpyxl.Workbook() \n",
    "wb.save(filepath) \n",
    "for x in listtotal: \n",
    "    for k,v in x.items(): \n",
    "        key_dict = k \n",
    "        value_dict = v \n",
    "        ws1 = wb.create_sheet(\"Sheet_A\") \n",
    "        if len(str(k)) < 31: \n",
    "            ws1.title = str(k) \n",
    "            ws = wb[str(k)] \n",
    "        else: \n",
    "            ws1.title = str(k)[0:30] \n",
    "            ws = wb[str(k)[0:30]] \n",
    "        counter = 1 \n",
    "    print(value_dict)\n",
    "    for y in value_dict: \n",
    "        counter2 = 2 \n",
    "        ws.cell(row=1, column=1).value = \"TOP DEMAND BY DESTINATION CITY\" \n",
    "        ws.cell(row=1, column=2).value = \"Interest\" \n",
    "        for z in y: \n",
    "            ws.cell(row=counter2, column=counter).value = z[0] \n",
    "            ws.cell(row=counter2, column=counter+1).value = z[1] \n",
    "            counter2 = counter2 + 1 \n",
    "del wb[\"Sheet\"] \n",
    "wb.save(filepath) \n",
    "wb.close()"
   ]
  },
  {
   "cell_type": "code",
   "execution_count": null,
   "id": "1b4cc2ae",
   "metadata": {},
   "outputs": [],
   "source": []
  },
  {
   "cell_type": "code",
   "execution_count": null,
   "id": "53c83eb7",
   "metadata": {},
   "outputs": [],
   "source": [
    "/html/body/div[1]/div[13]/div[2]/div[4]"
   ]
  }
 ],
 "metadata": {
  "kernelspec": {
   "display_name": "Python 3 (ipykernel)",
   "language": "python",
   "name": "python3"
  },
  "language_info": {
   "codemirror_mode": {
    "name": "ipython",
    "version": 3
   },
   "file_extension": ".py",
   "mimetype": "text/x-python",
   "name": "python",
   "nbconvert_exporter": "python",
   "pygments_lexer": "ipython3",
   "version": "3.8.11"
  }
 },
 "nbformat": 4,
 "nbformat_minor": 5
}
